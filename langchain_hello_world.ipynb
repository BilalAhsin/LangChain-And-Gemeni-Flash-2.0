{
  "cells": [
    {
      "cell_type": "code",
      "source": [
        "from google.colab import userdata\n",
        "\n",
        "API_Key = userdata.get('API_Key')"
      ],
      "metadata": {
        "id": "nAfMvxsSFKWw"
      },
      "execution_count": null,
      "outputs": []
    },
    {
      "cell_type": "code",
      "execution_count": null,
      "metadata": {
        "id": "3yg7CHP2_t3h"
      },
      "outputs": [],
      "source": [
        "from langchain_google_genai import ChatGoogleGenerativeAI\n",
        "from langchain_core.messages import HumanMessage\n",
        "from langchain_google_genai import ChatGoogleGenerativeAI\n",
        "from langchain.prompts import PromptTemplate\n",
        "from langchain.chains import LLMChain"
      ]
    },
    {
      "cell_type": "code",
      "source": [
        "llm = ChatGoogleGenerativeAI(\n",
        "    api_key=API_Key,\n",
        "    model=\"gemini-2.0-flash-exp\",\n",
        "    temperature=0.7\n",
        ")"
      ],
      "metadata": {
        "id": "0cLEkOl1GDxY"
      },
      "execution_count": null,
      "outputs": []
    },
    {
      "cell_type": "code",
      "source": [
        "prompt_template = PromptTemplate(\n",
        "    input_variables=[\"question\"],\n",
        "    template=\"You are a helpful assistant. Answer the following question:\\n\\n{question}\"\n",
        ")"
      ],
      "metadata": {
        "id": "l9iosIarI0TP"
      },
      "execution_count": null,
      "outputs": []
    },
    {
      "cell_type": "code",
      "source": [
        "chain = LLMChain(llm=llm, prompt=prompt_template)"
      ],
      "metadata": {
        "colab": {
          "base_uri": "https://localhost:8080/"
        },
        "id": "CmUom1h_JMv0",
        "outputId": "ce30c138-f054-4caa-f94a-213eddd5374b"
      },
      "execution_count": null,
      "outputs": [
        {
          "output_type": "stream",
          "name": "stderr",
          "text": [
            "<ipython-input-69-4f9708b53e60>:1: LangChainDeprecationWarning: The class `LLMChain` was deprecated in LangChain 0.1.17 and will be removed in 1.0. Use :meth:`~RunnableSequence, e.g., `prompt | llm`` instead.\n",
            "  chain = LLMChain(llm=llm, prompt=prompt_template)\n"
          ]
        }
      ]
    },
    {
      "cell_type": "code",
      "source": [
        "from IPython.display import display\n",
        "from IPython.display import Markdown\n",
        "question = \"What is machine learning?\"\n",
        "response = chain.run({\"question\": question})\n",
        "\n",
        "display(Markdown((response)))"
      ],
      "metadata": {
        "colab": {
          "base_uri": "https://localhost:8080/",
          "height": 904
        },
        "id": "GfvrXN7kJtTi",
        "outputId": "c3a85b83-5bfa-4587-8104-2ef8b02c8b2a"
      },
      "execution_count": null,
      "outputs": [
        {
          "output_type": "display_data",
          "data": {
            "text/plain": [
              "<IPython.core.display.Markdown object>"
            ],
            "text/markdown": "Okay, let's break down what machine learning is!\n\nIn simple terms, **machine learning (ML) is a subfield of artificial intelligence (AI) that focuses on enabling computer systems to learn from data without being explicitly programmed.** Instead of relying on hard-coded rules, machine learning algorithms identify patterns and make predictions or decisions based on the data they are fed.\n\nHere's a more detailed explanation:\n\n**Key Concepts:**\n\n* **Data:** Machine learning algorithms require data to learn. This data can be in various forms, such as numbers, text, images, audio, and more. The quality and quantity of data significantly impact the performance of the model.\n* **Algorithms:** These are the mathematical formulas and procedures that allow the machine to learn from the data. There are many different types of machine learning algorithms, each suited for different types of problems.\n* **Models:** A model is the representation of what the algorithm has learned from the data. It's essentially a mathematical function that can make predictions or classifications based on new, unseen data.\n* **Learning:** This is the process where the algorithm iteratively adjusts its internal parameters based on the data it receives to improve its accuracy and performance.\n* **Predictions and Decisions:** The goal of machine learning is to use the learned model to make predictions about new data or make informed decisions in various scenarios.\n\n**How it Works (Simplified):**\n\n1. **Gather Data:** You collect a dataset relevant to the problem you want to solve. This data is often labeled, meaning it has both the input and the corresponding output.\n2. **Choose an Algorithm:** You select an appropriate machine learning algorithm based on the type of problem and the characteristics of the data.\n3. **Train the Model:** You feed the data to the algorithm, which learns patterns and relationships within the data and adjusts its model parameters accordingly.\n4. **Evaluate the Model:** You assess the performance of the trained model using a separate set of data.\n5. **Tune the Model:** You may need to adjust the algorithm's parameters or use a different algorithm to improve its performance.\n6. **Deploy the Model:** Once you are satisfied with the model's performance, you deploy it to make predictions or decisions on new, unseen data.\n\n**Types of Machine Learning:**\n\n* **Supervised Learning:** The algorithm learns from labeled data, where the desired output is provided for each input. This is used for tasks like classification (categorizing data) and regression (predicting numerical values).\n* **Unsupervised Learning:** The algorithm learns from unlabeled data, where there is no specific output provided. This is used for tasks like clustering (grouping similar data points) and dimensionality reduction (simplifying complex data).\n* **Reinforcement Learning:** The algorithm learns through trial and error by interacting with an environment and receiving rewards or penalties for its actions. This is used for tasks like game playing and robotics.\n\n**Examples of Machine Learning in Action:**\n\n* **Image Recognition:** Identifying objects in pictures (e.g., face recognition, self-driving cars).\n* **Natural Language Processing:** Understanding human language (e.g., chatbots, translation apps).\n* **Recommendation Systems:** Suggesting products or content based on user preferences (e.g., Netflix, Amazon).\n* **Fraud Detection:** Identifying fraudulent transactions in financial systems.\n* **Medical Diagnosis:** Assisting doctors in diagnosing diseases based on medical images and data.\n\n**In Summary:**\n\nMachine learning is a powerful tool that allows computers to learn from data and make predictions or decisions without explicit programming. It is a rapidly evolving field with numerous applications across various industries and is becoming increasingly important in our daily lives.\n\nIs there anything specific about machine learning you'd like to know more about? I'm happy to provide further clarification or examples.\n"
          },
          "metadata": {}
        }
      ]
    },
    {
      "cell_type": "code",
      "source": [
        "from IPython.display import display\n",
        "from IPython.display import Markdown\n",
        "question = \"What is langchain?\"\n",
        "response = chain.run({\"question\": question})\n",
        "\n",
        "display(Markdown((response)))"
      ],
      "metadata": {
        "colab": {
          "base_uri": "https://localhost:8080/",
          "height": 662
        },
        "id": "P-1BAz-FLC5a",
        "outputId": "5f716f83-a263-4404-f61a-071ca708be0c"
      },
      "execution_count": null,
      "outputs": [
        {
          "output_type": "display_data",
          "data": {
            "text/plain": [
              "<IPython.core.display.Markdown object>"
            ],
            "text/markdown": "LangChain is a framework designed to simplify the development of applications that utilize large language models (LLMs). Think of it as a toolkit that provides various building blocks and abstractions to make it easier to:\n\n**Key Concepts of LangChain:**\n\n* **LLM Interaction:** It provides a standardized way to interact with different LLMs, whether they are open-source or proprietary. This means you don't need to write custom code for each specific model.\n* **Chains:** These are sequences of calls to LLMs (and other utilities) that can be chained together to perform more complex tasks. For example, you might have a chain that first summarizes a document and then answers questions about it.\n* **Indexes:** LangChain helps you organize and retrieve information from various data sources, such as text files, PDFs, databases, and websites. This allows you to provide context to your LLM for better results.\n* **Agents:** These are more advanced components that allow LLMs to interact with the outside world, such as browsing the web, using tools, and making decisions based on the information they gather.\n* **Memory:** LangChain provides mechanisms to store and recall past interactions, enabling conversational applications to maintain context and state.\n\n**Why is LangChain Useful?**\n\n* **Abstraction:** It hides the complexities of working directly with LLMs, allowing developers to focus on the logic of their applications.\n* **Modularity:** It provides reusable components that can be combined in different ways to create diverse applications.\n* **Flexibility:** It supports various LLMs, data sources, and tools, giving developers the freedom to choose what best suits their needs.\n* **Rapid Development:** It accelerates the development process by providing pre-built components and workflows.\n\n**Common Use Cases for LangChain:**\n\n* **Question Answering:** Building applications that can answer questions based on documents or other data sources.\n* **Text Summarization:** Creating summaries of long articles or documents.\n* **Chatbots:** Developing conversational agents that can interact with users.\n* **Data Analysis:** Using LLMs to extract insights from data.\n* **Content Generation:** Generating different types of text content, such as articles, poems, or code.\n* **Automation:** Automating tasks that require natural language understanding.\n\n**In Simple Terms:**\n\nImagine you want to build an application that can answer questions about a book. Instead of writing all the code from scratch to interact with an LLM, load the book, and process the information, LangChain provides tools and components to make this process much easier. It's like having a set of pre-built Lego bricks that you can use to quickly assemble your desired application.\n\n**Key Takeaway:**\n\nLangChain is a powerful framework that empowers developers to build sophisticated applications that leverage the capabilities of large language models. It provides a structured and modular approach to working with LLMs, making it easier to create intelligent and interactive systems.\n"
          },
          "metadata": {}
        }
      ]
    },
    {
      "cell_type": "code",
      "source": [
        "from IPython.display import display\n",
        "from IPython.display import Markdown\n",
        "question = \"What is agenticai?\"\n",
        "response = chain.run({\"question\": question})\n",
        "\n",
        "display(Markdown((response)))"
      ],
      "metadata": {
        "colab": {
          "base_uri": "https://localhost:8080/",
          "height": 673
        },
        "id": "lD9Cl3iXJ0hd",
        "outputId": "adddd443-d716-4816-c0ab-4f5278283d47"
      },
      "execution_count": null,
      "outputs": [
        {
          "output_type": "display_data",
          "data": {
            "text/plain": [
              "<IPython.core.display.Markdown object>"
            ],
            "text/markdown": "\"Agentic AI\" is a term that refers to **artificial intelligence systems that exhibit a high degree of autonomy and can act independently to achieve specific goals.** Think of them as AI agents that can perceive their environment, make decisions, and take actions without constant human intervention.\n\nHere's a breakdown of the key characteristics:\n\n* **Autonomy:** Agentic AI is designed to operate with minimal human guidance. It can set its own sub-goals and determine the best course of action to reach a desired outcome.\n* **Goal-Oriented:** These systems are driven by specific objectives. They are not just reacting to inputs but actively working towards a defined purpose.\n* **Perception and Understanding:** They can gather information from their environment through various sensors (e.g., text, images, audio) and understand that information to make informed decisions.\n* **Planning and Reasoning:** Agentic AI can plan sequences of actions and reason about the potential consequences of those actions.\n* **Learning and Adaptation:** They can learn from their experiences and adapt their behavior over time to improve their performance.\n* **Interactivity:** They can interact with their environment and with other agents (including humans) to achieve their goals.\n\n**Think of it like this:**\n\nImagine a simple chatbot. It responds to your questions based on predefined rules and patterns. That's not agentic AI. Now, imagine an AI that can book your entire vacation, from flights and hotels to restaurants, based on your preferences and budget, without you having to specify every detail. That's more in line with the concept of agentic AI.\n\n**Examples of Agentic AI in Development:**\n\n* **Autonomous Vehicles:** Self-driving cars that perceive their surroundings, plan routes, and make driving decisions without human intervention.\n* **Robotics:** Robots that can perform complex tasks in dynamic environments, such as warehouse automation or surgical procedures.\n* **Personal Assistants:** AI assistants that can proactively manage your schedule, make recommendations, and complete tasks on your behalf.\n* **Scientific Discovery:** AI that can analyze vast datasets to identify patterns and make new scientific discoveries.\n* **Business Automation:** AI that can automate complex business processes, such as supply chain management or customer service.\n\n**Key Implications and Considerations:**\n\n* **Increased Efficiency and Productivity:** Agentic AI has the potential to automate many tasks, freeing up human workers to focus on more creative and strategic endeavors.\n* **Ethical Concerns:** As these systems become more autonomous, questions arise about accountability, bias, and potential misuse.\n* **Safety and Reliability:** Ensuring the safety and reliability of agentic AI is crucial, especially in high-stakes applications.\n* **Job Displacement:** The automation capabilities of agentic AI may lead to job displacement in certain sectors.\n\n**In conclusion, Agentic AI represents a significant advancement in AI development, with the potential to transform many aspects of our lives. It is a field that is rapidly evolving and will likely continue to shape the future of technology.**\n"
          },
          "metadata": {}
        }
      ]
    },
    {
      "cell_type": "code",
      "source": [],
      "metadata": {
        "id": "6BQffnkvLKxQ"
      },
      "execution_count": null,
      "outputs": []
    }
  ],
  "metadata": {
    "colab": {
      "provenance": []
    },
    "kernelspec": {
      "display_name": "Python 3",
      "name": "python3"
    },
    "language_info": {
      "name": "python"
    }
  },
  "nbformat": 4,
  "nbformat_minor": 0
}